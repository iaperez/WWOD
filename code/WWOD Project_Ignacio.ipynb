{
 "metadata": {
  "name": "WWOD Project_Ignacio"
 },
 "nbformat": 3,
 "nbformat_minor": 0,
 "worksheets": [
  {
   "cells": [
    {
     "cell_type": "code",
     "collapsed": false,
     "input": [
      "import pandas as pd\n",
      "import wikipydia as wk\n",
      "import mwparserfromhell\n",
      "from wikitools import wiki\n",
      "from wikitools import api\n",
      "from wikitools import category\n",
      "\n",
      "projectsAPI = pd.read_csv('../data/projects_operations_api.csv')"
     ],
     "language": "python",
     "metadata": {},
     "outputs": []
    },
    {
     "cell_type": "code",
     "collapsed": false,
     "input": [
      "#for x in projects_api['countryname'].dropna().drop_duplicates():\n",
      "#    print x.split(';')[0]\n",
      "wikisite = \"http://en.wikipedia.org/w/api.php\"\n",
      "parse_category = \"United States\"\n",
      "\n",
      "wikiObject = wiki.Wiki(wikisite) \n",
      "wikiCategory = category.Category(wikiObject, parse_category)\n",
      "articles = wikiCategory.getAllMembersGen(namespaces=[0])\n",
      "\n",
      "#this is not an efficient solution, but it is clean...\n",
      "#only works with previously organized info from wikipedia (templates)\n",
      "for article in articles:\n",
      "    wikiraw = article.getWikiText()\n",
      "    wikiraw= wikiraw.decode('UTF-8')\n",
      "    parsedWikiText = mwparserfromhell.parse(wikiraw)\n",
      "    for x in parsedWikiText.nodes:\n",
      "        if \"template\" in str(type(x)):\n",
      "            if \"Infobox\" in str(x.name):\n",
      "                print x.get('conventional_long_name')\n",
      "                print x.get('area_km2')\n",
      "                print x.get('GDP_nominal_per_capita')\n",
      "                print x.get('HDI')\n",
      "                print x.get('Gini')\n",
      "                print x.get('population_density_km2')\n",
      "                print x.get('latd')\n",
      "                print x.get('latm')\n",
      "                print x.get('latNS')\n",
      "                print x.get('longd')\n",
      "                print x.get('longm')\n",
      "                print x.get('longEW')\n",
      "                #print x\n"
     ],
     "language": "python",
     "metadata": {},
     "outputs": []
    },
    {
     "cell_type": "code",
     "collapsed": false,
     "input": [
      " \n",
      "    "
     ],
     "language": "python",
     "metadata": {},
     "outputs": []
    },
    {
     "cell_type": "code",
     "collapsed": false,
     "input": [],
     "language": "python",
     "metadata": {},
     "outputs": []
    }
   ],
   "metadata": {}
  }
 ]
}